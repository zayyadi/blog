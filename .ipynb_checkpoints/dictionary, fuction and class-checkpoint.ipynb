{
 "cells": [
  {
   "cell_type": "markdown",
   "id": "virgin-brand",
   "metadata": {},
   "source": [
    "# dictionary\n",
    "\n",
    "Dictionaries are Python’s implementation of a data structure that is more generally known as an associative array. A dictionary consists of a collection of key-value pairs. Each key-value pair maps the key to its associated value.\n",
    "\n",
    "You can define a dictionary by enclosing a comma-separated list of key-value pairs in curly braces ({}). A colon (:) separates each key from its associated value"
   ]
  },
  {
   "cell_type": "markdown",
   "id": "improved-merchandise",
   "metadata": {},
   "source": [
    "dict = {\n",
    "    <key>: <value>,\n",
    "    <key>: <value>,\n",
    "    <key>: <value>\n",
    "}"
   ]
  },
  {
   "cell_type": "code",
   "execution_count": 3,
   "id": "thermal-border",
   "metadata": {},
   "outputs": [],
   "source": [
    "users ={\n",
    "    1:'zayyad',\n",
    "    2:'Musa',\n",
    "    3:'Demola',\n",
    "    4:'gbolahan',\n",
    "}"
   ]
  },
  {
   "cell_type": "code",
   "execution_count": 4,
   "id": "incoming-gothic",
   "metadata": {},
   "outputs": [
    {
     "data": {
      "text/plain": [
       "dict"
      ]
     },
     "execution_count": 4,
     "metadata": {},
     "output_type": "execute_result"
    }
   ],
   "source": [
    "type(users)"
   ]
  },
  {
   "cell_type": "code",
   "execution_count": 5,
   "id": "correct-engineer",
   "metadata": {},
   "outputs": [
    {
     "data": {
      "text/plain": [
       "'zayyad'"
      ]
     },
     "execution_count": 5,
     "metadata": {},
     "output_type": "execute_result"
    }
   ],
   "source": [
    "users[1]"
   ]
  },
  {
   "cell_type": "code",
   "execution_count": 7,
   "id": "elegant-climb",
   "metadata": {},
   "outputs": [],
   "source": [
    "# updating dictionary\n",
    "users[1]='Saheed'"
   ]
  },
  {
   "cell_type": "code",
   "execution_count": 8,
   "id": "hispanic-offering",
   "metadata": {},
   "outputs": [
    {
     "data": {
      "text/plain": [
       "{1: 'Saheed', 2: 'Musa', 3: 'Demola', 4: 'gbolahan'}"
      ]
     },
     "execution_count": 8,
     "metadata": {},
     "output_type": "execute_result"
    }
   ],
   "source": [
    "users\n"
   ]
  },
  {
   "cell_type": "code",
   "execution_count": 10,
   "id": "fewer-jacob",
   "metadata": {},
   "outputs": [],
   "source": [
    "# deleting dictionary\n",
    "\n",
    "del users[1]"
   ]
  },
  {
   "cell_type": "code",
   "execution_count": 11,
   "id": "terminal-tracy",
   "metadata": {},
   "outputs": [
    {
     "data": {
      "text/plain": [
       "{2: 'Musa', 3: 'Demola', 4: 'gbolahan'}"
      ]
     },
     "execution_count": 11,
     "metadata": {},
     "output_type": "execute_result"
    }
   ],
   "source": [
    "users\n"
   ]
  },
  {
   "cell_type": "code",
   "execution_count": 12,
   "id": "southeast-fossil",
   "metadata": {},
   "outputs": [],
   "source": [
    "users[1]='zayyad'"
   ]
  },
  {
   "cell_type": "code",
   "execution_count": 13,
   "id": "thorough-desire",
   "metadata": {},
   "outputs": [
    {
     "data": {
      "text/plain": [
       "'zayyad'"
      ]
     },
     "execution_count": 13,
     "metadata": {},
     "output_type": "execute_result"
    }
   ],
   "source": [
    "users[1]"
   ]
  },
  {
   "cell_type": "code",
   "execution_count": 14,
   "id": "appropriate-standard",
   "metadata": {},
   "outputs": [],
   "source": [
    "#clear function clears all the keys:values of a dictionary\n",
    "\n",
    "users.clear()"
   ]
  },
  {
   "cell_type": "code",
   "execution_count": null,
   "id": "dying-construction",
   "metadata": {},
   "outputs": [],
   "source": []
  },
  {
   "cell_type": "code",
   "execution_count": null,
   "id": "knowing-lucas",
   "metadata": {},
   "outputs": [],
   "source": []
  },
  {
   "cell_type": "code",
   "execution_count": null,
   "id": "covered-church",
   "metadata": {},
   "outputs": [],
   "source": []
  },
  {
   "cell_type": "markdown",
   "id": "collect-shareware",
   "metadata": {},
   "source": [
    "# Building a Dictionary Incrementally\n",
    "You can start by creating an empty dictionary, which is specified by empty curly braces. Then you can add new keys and values one at a time:\n"
   ]
  },
  {
   "cell_type": "code",
   "execution_count": 6,
   "id": "unexpected-military",
   "metadata": {},
   "outputs": [],
   "source": [
    "person = {}\n",
    "type(person)\n",
    "\n",
    "person['fname'] = 'Joe'\n",
    "person['lname'] = 'Fonebone'\n",
    "person['age'] = 51\n",
    "person['spouse'] = 'Edna'\n",
    "person['children'] = ['Ralph', 'Betty', 'Joey']\n",
    "person['pets'] = {'dog': 'Fido', 'cat': 'Sox'}"
   ]
  },
  {
   "cell_type": "code",
   "execution_count": null,
   "id": "engaged-ratio",
   "metadata": {},
   "outputs": [],
   "source": []
  }
 ],
 "metadata": {
  "kernelspec": {
   "display_name": "Python 3",
   "language": "python",
   "name": "python3"
  },
  "language_info": {
   "codemirror_mode": {
    "name": "ipython",
    "version": 3
   },
   "file_extension": ".py",
   "mimetype": "text/x-python",
   "name": "python",
   "nbconvert_exporter": "python",
   "pygments_lexer": "ipython3",
   "version": "3.7.5"
  }
 },
 "nbformat": 4,
 "nbformat_minor": 5
}
