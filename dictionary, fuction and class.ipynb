{
 "cells": [
  {
   "cell_type": "markdown",
   "id": "conditional-president",
   "metadata": {},
   "source": [
    "# dictionary\n",
    "\n",
    "Dictionaries are Python’s implementation of a data structure that is more generally known as an associative array. A dictionary consists of a collection of key-value pairs. Each key-value pair maps the key to its associated value.\n",
    "\n",
    "You can define a dictionary by enclosing a comma-separated list of key-value pairs in curly braces ({}). A colon (:) separates each key from its associated value"
   ]
  },
  {
   "cell_type": "markdown",
   "id": "developmental-rubber",
   "metadata": {},
   "source": [
    "dict = {\n",
    "    <key>: <value>,\n",
    "    <key>: <value>,\n",
    "    <key>: <value>\n",
    "}"
   ]
  },
  {
   "cell_type": "code",
   "execution_count": 3,
   "id": "personal-idaho",
   "metadata": {},
   "outputs": [],
   "source": [
    "users ={\n",
    "    1:'zayyad',\n",
    "    2:'Musa',\n",
    "    3:'Demola',\n",
    "    4:'gbolahan',\n",
    "}"
   ]
  },
  {
   "cell_type": "code",
   "execution_count": 4,
   "id": "friendly-mileage",
   "metadata": {},
   "outputs": [
    {
     "data": {
      "text/plain": [
       "dict"
      ]
     },
     "execution_count": 4,
     "metadata": {},
     "output_type": "execute_result"
    }
   ],
   "source": [
    "type(users)"
   ]
  },
  {
   "cell_type": "code",
   "execution_count": 5,
   "id": "blocked-lotus",
   "metadata": {},
   "outputs": [
    {
     "data": {
      "text/plain": [
       "'zayyad'"
      ]
     },
     "execution_count": 5,
     "metadata": {},
     "output_type": "execute_result"
    }
   ],
   "source": [
    "users[1]"
   ]
  },
  {
   "cell_type": "code",
   "execution_count": 7,
   "id": "ceramic-witness",
   "metadata": {},
   "outputs": [],
   "source": [
    "# updating dictionary\n",
    "users[1]='Saheed'"
   ]
  },
  {
   "cell_type": "code",
   "execution_count": 8,
   "id": "instrumental-pharmacy",
   "metadata": {},
   "outputs": [
    {
     "data": {
      "text/plain": [
       "{1: 'Saheed', 2: 'Musa', 3: 'Demola', 4: 'gbolahan'}"
      ]
     },
     "execution_count": 8,
     "metadata": {},
     "output_type": "execute_result"
    }
   ],
   "source": [
    "users\n"
   ]
  },
  {
   "cell_type": "code",
   "execution_count": 10,
   "id": "precious-joshua",
   "metadata": {},
   "outputs": [],
   "source": [
    "# deleting dictionary\n",
    "\n",
    "del users[1]"
   ]
  },
  {
   "cell_type": "code",
   "execution_count": 11,
   "id": "optional-lottery",
   "metadata": {},
   "outputs": [
    {
     "data": {
      "text/plain": [
       "{2: 'Musa', 3: 'Demola', 4: 'gbolahan'}"
      ]
     },
     "execution_count": 11,
     "metadata": {},
     "output_type": "execute_result"
    }
   ],
   "source": [
    "users\n"
   ]
  },
  {
   "cell_type": "code",
   "execution_count": 12,
   "id": "threatened-strengthening",
   "metadata": {},
   "outputs": [],
   "source": [
    "users[1]='zayyad'"
   ]
  },
  {
   "cell_type": "code",
   "execution_count": 13,
   "id": "round-crime",
   "metadata": {},
   "outputs": [
    {
     "data": {
      "text/plain": [
       "'zayyad'"
      ]
     },
     "execution_count": 13,
     "metadata": {},
     "output_type": "execute_result"
    }
   ],
   "source": [
    "users[1]"
   ]
  },
  {
   "cell_type": "code",
   "execution_count": 14,
   "id": "central-leader",
   "metadata": {},
   "outputs": [],
   "source": [
    "#clear function clears all the keys:values of a dictionary\n",
    "\n",
    "users.clear()"
   ]
  },
  {
   "cell_type": "code",
   "execution_count": 15,
   "id": "accepted-mixture",
   "metadata": {},
   "outputs": [
    {
     "data": {
      "text/plain": [
       "{}"
      ]
     },
     "execution_count": 15,
     "metadata": {},
     "output_type": "execute_result"
    }
   ],
   "source": [
    "users"
   ]
  },
  {
   "cell_type": "code",
   "execution_count": 17,
   "id": "broken-atlantic",
   "metadata": {},
   "outputs": [],
   "source": [
    "# nested dcitionary, A list within a List\n",
    "\n",
    "dict = {\n",
    "    1:'my',\n",
    "    2:'Name',\n",
    "    3:{'A':'is','B':'Zayyad','C':'Zayyad'}\n",
    "}"
   ]
  },
  {
   "cell_type": "code",
   "execution_count": 18,
   "id": "criminal-fetish",
   "metadata": {},
   "outputs": [
    {
     "data": {
      "text/plain": [
       "{1: 'my', 2: 'Name', 3: {'A': 'is', 'B': 'Zayyad', 'C': 'Zayyad'}}"
      ]
     },
     "execution_count": 18,
     "metadata": {},
     "output_type": "execute_result"
    }
   ],
   "source": [
    "dict"
   ]
  },
  {
   "cell_type": "markdown",
   "id": "ongoing-singapore",
   "metadata": {},
   "source": [
    "# Building a Dictionary Incrementally\n",
    "You can start by creating an empty dictionary, which is specified by empty curly braces. Then you can add new keys and values one at a time:\n"
   ]
  },
  {
   "cell_type": "code",
   "execution_count": 6,
   "id": "published-assist",
   "metadata": {},
   "outputs": [],
   "source": [
    "person = {}\n",
    "type(person)\n",
    "\n",
    "person['fname'] = 'Joe'\n",
    "person['lname'] = 'Fonebone'\n",
    "person['age'] = 51\n",
    "person['spouse'] = 'Edna'\n",
    "person['children'] = ['Ralph', 'Betty', 'Joey']\n",
    "person['pets'] = {'dog': 'Fido', 'cat': 'Sox'}"
   ]
  },
  {
   "cell_type": "markdown",
   "id": "thorough-israeli",
   "metadata": {},
   "source": [
    "The Python dictionary .get() method provides a convenient way of getting the value of a key from a dictionary without checking ahead of time whether the key exists, and without raising an error.\n",
    "\n",
    "d.get(<key>) searches dictionary d for <key> and returns the associated value if it is found. If <key> is not found, it returns None:"
   ]
  },
  {
   "cell_type": "code",
   "execution_count": 23,
   "id": "alone-warner",
   "metadata": {},
   "outputs": [
    {
     "name": "stdout",
     "output_type": "stream",
     "text": [
      "{'A': 'is', 'B': 'Zayyad', 'C': 'Zayyad'}\n"
     ]
    }
   ],
   "source": [
    "print(dict.get(3))"
   ]
  },
  {
   "cell_type": "markdown",
   "id": "assisted-wallet",
   "metadata": {},
   "source": [
    "dict.items() returns a list of tuples containing the key-value pairs in dict. The first item in each tuple is the key, and the second item is the key’s value"
   ]
  },
  {
   "cell_type": "code",
   "execution_count": 24,
   "id": "vocational-disabled",
   "metadata": {},
   "outputs": [
    {
     "data": {
      "text/plain": [
       "dict_items([(1, 'my'), (2, 'Name'), (3, {'A': 'is', 'B': 'Zayyad', 'C': 'Zayyad'})])"
      ]
     },
     "execution_count": 24,
     "metadata": {},
     "output_type": "execute_result"
    }
   ],
   "source": [
    "dict.items()"
   ]
  },
  {
   "cell_type": "markdown",
   "id": "exciting-armor",
   "metadata": {},
   "source": [
    "dict.keys() returns a list of all keys in dict:\n",
    "\n"
   ]
  },
  {
   "cell_type": "code",
   "execution_count": 25,
   "id": "serial-haiti",
   "metadata": {},
   "outputs": [
    {
     "data": {
      "text/plain": [
       "dict_keys([1, 2, 3])"
      ]
     },
     "execution_count": 25,
     "metadata": {},
     "output_type": "execute_result"
    }
   ],
   "source": [
    "dict.keys()"
   ]
  },
  {
   "cell_type": "markdown",
   "id": "egyptian-scanner",
   "metadata": {},
   "source": [
    "dict.values returns a list of all values in dict:"
   ]
  },
  {
   "cell_type": "code",
   "execution_count": 27,
   "id": "acceptable-closure",
   "metadata": {},
   "outputs": [
    {
     "data": {
      "text/plain": [
       "dict_values(['my', 'Name', {'A': 'is', 'B': 'Zayyad', 'C': 'Zayyad'}])"
      ]
     },
     "execution_count": 27,
     "metadata": {},
     "output_type": "execute_result"
    }
   ],
   "source": [
    "dict.values()"
   ]
  },
  {
   "cell_type": "markdown",
   "id": "regulated-gather",
   "metadata": {},
   "source": [
    "Removes a key from a dictionary, if it is present, and returns its value.\n",
    "\n",
    "If <key> is present in dict, dict.pop(<key>) removes <key> and returns its associated value:\n",
    "\n"
   ]
  },
  {
   "cell_type": "markdown",
   "id": "alone-toilet",
   "metadata": {},
   "source": [
    "dict.update() Merges a dictionary with another dictionary or with an iterable of key-value pairs.\n",
    "\n",
    "If <obj> is a dictionary, d.update(<obj>) merges the entries from <obj> into d. For each key in <obj>:\n",
    "\n",
    "If the key is not present in d, the key-value pair from <obj> is added to d.\n",
    "If the key is already present in d, the corresponding value in d for that key is updated to the value from <obj>.\n",
    "Here is an example showing two dictionaries merged together:"
   ]
  },
  {
   "cell_type": "code",
   "execution_count": 28,
   "id": "crazy-edward",
   "metadata": {},
   "outputs": [
    {
     "name": "stdout",
     "output_type": "stream",
     "text": [
      "1 -> my\n",
      "2 -> Name\n",
      "3 -> {'A': 'is', 'B': 'Zayyad', 'C': 'Zayyad'}\n"
     ]
    }
   ],
   "source": [
    "for key in dict:\n",
    "    print(key, '->', dict[key])"
   ]
  },
  {
   "cell_type": "markdown",
   "id": "attached-producer",
   "metadata": {},
   "source": [
    "# Iterating Through .items()\n",
    "\n",
    "\n",
    "When you’re working with dictionaries, it’s likely that you’ll want to work with both the keys and the values. One of the most useful ways to iterate through a dictionary in Python is by using .items(), which is a method that returns a new view of the dictionary’s items"
   ]
  },
  {
   "cell_type": "code",
   "execution_count": 30,
   "id": "cardiovascular-hurricane",
   "metadata": {},
   "outputs": [],
   "source": [
    "dict_items = dict.items()"
   ]
  },
  {
   "cell_type": "code",
   "execution_count": 31,
   "id": "previous-stockholm",
   "metadata": {},
   "outputs": [
    {
     "data": {
      "text/plain": [
       "dict_items([(1, 'my'), (2, 'Name'), (3, {'A': 'is', 'B': 'Zayyad', 'C': 'Zayyad'})])"
      ]
     },
     "execution_count": 31,
     "metadata": {},
     "output_type": "execute_result"
    }
   ],
   "source": [
    "dict_items\n"
   ]
  },
  {
   "cell_type": "code",
   "execution_count": 32,
   "id": "agricultural-tanzania",
   "metadata": {},
   "outputs": [
    {
     "name": "stdout",
     "output_type": "stream",
     "text": [
      "(1, 'my')\n",
      "<class 'tuple'>\n",
      "(2, 'Name')\n",
      "<class 'tuple'>\n",
      "(3, {'A': 'is', 'B': 'Zayyad', 'C': 'Zayyad'})\n",
      "<class 'tuple'>\n"
     ]
    }
   ],
   "source": [
    "for item in dict.items():\n",
    "    print(item)\n",
    "    print(type(item))"
   ]
  },
  {
   "cell_type": "code",
   "execution_count": 33,
   "id": "acquired-adelaide",
   "metadata": {},
   "outputs": [
    {
     "name": "stdout",
     "output_type": "stream",
     "text": [
      "1 -> my\n",
      "2 -> Name\n",
      "3 -> {'A': 'is', 'B': 'Zayyad', 'C': 'Zayyad'}\n"
     ]
    }
   ],
   "source": [
    "for key, value in dict.items():\n",
    "    print(key, '->', value)"
   ]
  },
  {
   "cell_type": "code",
   "execution_count": null,
   "id": "treated-talent",
   "metadata": {},
   "outputs": [],
   "source": []
  }
 ],
 "metadata": {
  "kernelspec": {
   "display_name": "Python 3",
   "language": "python",
   "name": "python3"
  },
  "language_info": {
   "codemirror_mode": {
    "name": "ipython",
    "version": 3
   },
   "file_extension": ".py",
   "mimetype": "text/x-python",
   "name": "python",
   "nbconvert_exporter": "python",
   "pygments_lexer": "ipython3",
   "version": "3.7.5"
  }
 },
 "nbformat": 4,
 "nbformat_minor": 5
}
